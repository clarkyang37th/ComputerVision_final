{
 "cells": [
  {
   "cell_type": "code",
   "execution_count": 24,
   "id": "c49b4266",
   "metadata": {},
   "outputs": [],
   "source": [
    "import cv2\n",
    "import matplotlib.pyplot as plt\n",
    "import numpy as np\n",
    "import os\n",
    "import xml.etree.ElementTree as ET\n",
    "import copy\n",
    "from sklearn.utils import shuffle\n",
    "from sklearn.model_selection import train_test_split"
   ]
  },
  {
   "cell_type": "code",
   "execution_count": 9,
   "id": "49bf0774",
   "metadata": {},
   "outputs": [],
   "source": [
    "# import argparse\n",
    "import torch\n",
    "import torch.nn as nn\n",
    "import torch.nn.functional as F\n",
    "import torch.optim as optim\n",
    "from torchvision import datasets, transforms\n",
    "from torch.autograd import Variable\n",
    "# import torchvision\n",
    "from torch.utils.data import Dataset"
   ]
  },
  {
   "cell_type": "code",
   "execution_count": 28,
   "id": "00cde1de",
   "metadata": {},
   "outputs": [],
   "source": [
    "### process every xml files to be 'filename':[[xmin_room1,xmax_room1,ymin_room1,ymax_room1,label_room1],\n",
    "### [xmin_room2,xmax_room2,ymin_room2,ymax_room2,label_room2],...]\n",
    "\n",
    "directName = \"./data_1\"\n",
    "# directName = \"./\"\n",
    "script_dict = {}   ### record of each figure and each room of it\n",
    "room_dict = {}     ### labels for different room: living room, bedroom, ...\n",
    "room_count = {}\n",
    "xy_dist = []\n",
    "for file in os.listdir(directName):\n",
    "    if file.endswith(\".xml\"):\n",
    "        fileNamePre = file[:-4]\n",
    "        tree = ET.parse(os.path.join(directName, file))\n",
    "        root = tree.getroot()\n",
    "        script_dict[fileNamePre] = []\n",
    "        for item in root.findall('object'):\n",
    "            rooms = [None]*5\n",
    "            for child in item:\n",
    "                if(child.tag == 'name'):\n",
    "                    room_type = child.text\n",
    "                    room_type_digit = -1\n",
    "                    if(room_type in room_dict):\n",
    "                        room_type_digit = room_dict[room_type]\n",
    "                        room_count[room_type_digit] = room_count[room_type_digit] + 1\n",
    "                    else:\n",
    "                        room_type_digit = len(room_dict)\n",
    "                        room_dict[room_type] = room_type_digit \n",
    "                        room_count[room_type_digit] = 1\n",
    "                    rooms[4] = room_type_digit\n",
    "                elif(child.tag == 'bndbox'):\n",
    "                    for grandchild in child:\n",
    "                        if grandchild.tag=='xmin':\n",
    "                            rooms[0] = int(grandchild.text)\n",
    "                        elif grandchild.tag=='xmax':\n",
    "                            rooms[1] = int(grandchild.text)\n",
    "                        elif grandchild.tag=='ymin':\n",
    "                            rooms[2] = int(grandchild.text)\n",
    "                        elif grandchild.tag=='ymax':\n",
    "                            rooms[3] = int(grandchild.text)\n",
    "            xy_dist.append(rooms[1]-rooms[0])\n",
    "            xy_dist.append(rooms[3]-rooms[2])\n",
    "            script_dict[fileNamePre].append(rooms)"
   ]
  },
  {
   "cell_type": "code",
   "execution_count": 3,
   "id": "90c4e9cc",
   "metadata": {
    "scrolled": true
   },
   "outputs": [
    {
     "data": {
      "text/plain": [
       "{'0134b1-1': [[975, 1200, 823, 955, 0],\n",
       "  [721, 946, 824, 1092, 1],\n",
       "  [719, 1102, 1118, 1579, 2],\n",
       "  [1562, 1875, 968, 1302, 2],\n",
       "  [1134, 1532, 1107, 1575, 3],\n",
       "  [1236, 1538, 819, 1105, 4],\n",
       "  [1559, 1879, 737, 940, 5]],\n",
       " '0134b2-1': [[2062, 2428, 794, 960, 1],\n",
       "  [2055, 2431, 518, 757, 6],\n",
       "  [1238, 1606, 526, 877, 2],\n",
       "  [2057, 2431, 999, 1399, 2],\n",
       "  [1238, 2036, 904, 1391, 3],\n",
       "  [1630, 2042, 519, 885, 4]],\n",
       " '0134b2-2': [[2084, 2453, 746, 919, 1],\n",
       "  [2065, 2452, 477, 714, 6],\n",
       "  [1261, 1628, 858, 1351, 2],\n",
       "  [2087, 2451, 942, 1350, 2],\n",
       "  [1260, 1628, 473, 827, 2],\n",
       "  [1658, 2062, 475, 1350, 3],\n",
       "  [1643, 2069, 1378, 1591, 7]],\n",
       " '0134b3-1': [[1586, 1727, 667, 961, 1],\n",
       "  [1407, 1565, 660, 972, 6],\n",
       "  [1153, 1386, 661, 956, 2],\n",
       "  [1405, 1663, 1112, 1477, 2],\n",
       "  [1882, 2201, 1106, 1418, 3],\n",
       "  [1746, 2017, 662, 954, 4],\n",
       "  [2045, 2204, 662, 960, 5],\n",
       "  [1154, 1382, 977, 1411, 8]],\n",
       " '0134b3-2': [[1658, 1798, 742, 1044, 1],\n",
       "  [2111, 2275, 747, 938, 1],\n",
       "  [1475, 1633, 745, 1043, 6],\n",
       "  [1480, 1732, 1200, 1565, 2],\n",
       "  [1820, 2096, 743, 1041, 2],\n",
       "  [1953, 2280, 1064, 1362, 2],\n",
       "  [1753, 1938, 1197, 1426, 3],\n",
       "  [1228, 1458, 745, 1067, 3]]}"
      ]
     },
     "execution_count": 3,
     "metadata": {},
     "output_type": "execute_result"
    }
   ],
   "source": [
    "script_dict"
   ]
  },
  {
   "cell_type": "code",
   "execution_count": 4,
   "id": "e9f39dd8",
   "metadata": {},
   "outputs": [
    {
     "data": {
      "text/plain": [
       "{'storage': 0,\n",
       " 'bathroom': 1,\n",
       " 'bedroom': 2,\n",
       " 'living room': 3,\n",
       " 'dining room': 4,\n",
       " 'kitchen': 5,\n",
       " 'stairs': 6,\n",
       " 'balcony': 7,\n",
       " 'garage': 8}"
      ]
     },
     "execution_count": 4,
     "metadata": {},
     "output_type": "execute_result"
    }
   ],
   "source": [
    "room_dict"
   ]
  },
  {
   "cell_type": "code",
   "execution_count": 61,
   "id": "a3cae552",
   "metadata": {},
   "outputs": [
    {
     "data": {
      "text/plain": [
       "{0: 34, 1: 259, 2: 339, 3: 198, 4: 56, 5: 78, 6: 203, 7: 77, 8: 28, 9: 5}"
      ]
     },
     "execution_count": 61,
     "metadata": {},
     "output_type": "execute_result"
    }
   ],
   "source": [
    "room_count"
   ]
  },
  {
   "cell_type": "code",
   "execution_count": 71,
   "id": "f7cc3b69",
   "metadata": {},
   "outputs": [],
   "source": [
    "total_rooms = 0\n",
    "for key in room_count:\n",
    "    total_rooms += room_count[key]"
   ]
  },
  {
   "cell_type": "code",
   "execution_count": 81,
   "id": "dda50707",
   "metadata": {},
   "outputs": [],
   "source": [
    "weights = [None]*10\n",
    "for i in range(10):\n",
    "    weights[i] = total_rooms/room_count[i]"
   ]
  },
  {
   "cell_type": "code",
   "execution_count": 82,
   "id": "28516b23",
   "metadata": {},
   "outputs": [],
   "source": [
    "weights = torch.from_numpy(np.array(weights).astype(np.float32))"
   ]
  },
  {
   "cell_type": "code",
   "execution_count": 6,
   "id": "1c29a786",
   "metadata": {},
   "outputs": [
    {
     "data": {
      "text/plain": [
       "(array([12., 14., 20., 19.,  5.,  0.,  0.,  0.,  1.,  1.]),\n",
       " array([132. , 206.3, 280.6, 354.9, 429.2, 503.5, 577.8, 652.1, 726.4,\n",
       "        800.7, 875. ]),\n",
       " <BarContainer object of 10 artists>)"
      ]
     },
     "execution_count": 6,
     "metadata": {},
     "output_type": "execute_result"
    },
    {
     "data": {
      "image/png": "[encoded data removed]",
      "text/plain": [
       "<Figure size 432x288 with 1 Axes>"
      ]
     },
     "metadata": {
      "needs_background": "light"
     },
     "output_type": "display_data"
    }
   ],
   "source": [
    "plt.hist(xy_dist)"
   ]
  },
  {
   "cell_type": "code",
   "execution_count": null,
   "id": "d3712962",
   "metadata": {},
   "outputs": [],
   "source": []
  },
  {
   "cell_type": "code",
   "execution_count": null,
   "id": "b2422b41",
   "metadata": {},
   "outputs": [],
   "source": []
  },
  {
   "cell_type": "code",
   "execution_count": 10,
   "id": "53f15dfe",
   "metadata": {},
   "outputs": [],
   "source": [
    "# def split_rooms_coords(directName, script_dict, resize_scale):\n",
    "#     X_cor = []\n",
    "#     Y_cor = []\n",
    "#     for file in os.listdir(directName): \n",
    "#         if file.endswith(\".xml\"):\n",
    "#             fileNamePre = file[:-4]\n",
    "#             img = cv2.imread(fileNamePre+'.png', cv2.IMREAD_GRAYSCALE)\n",
    "#             coords = script_dict[fileNamePre]\n",
    "#             for cor in coords:\n",
    "#                 img_part = img[cor[2]:cor[3],cor[0]:cor[1]]\n",
    "#                 img_part = cv2.resize(img_part, (resize_scale,resize_scale))\n",
    "#                 X_cor.append(img_part)\n",
    "#                 Y_cor.append(cor[4])\n",
    "#                 X_cor.append(np.rot90(img_part,2))\n",
    "#                 Y_cor.append(cor[4])\n",
    "#     X_cor = np.array(X_cor)\n",
    "#     Y_cor = np.array(Y_cor)\n",
    "#     return np.expand_dims(X_cor, axis=1), Y_cor    "
   ]
  },
  {
   "cell_type": "code",
   "execution_count": 11,
   "id": "e1549c10",
   "metadata": {},
   "outputs": [],
   "source": [
    "# X,Y = split_rooms_coords(directName,script_dict,300)"
   ]
  },
  {
   "cell_type": "code",
   "execution_count": 119,
   "id": "edf446e4",
   "metadata": {},
   "outputs": [],
   "source": [
    "def split_rooms_coords_rot(directName, script_dict, resize_scale, test_ratio):\n",
    "    X_cor = []\n",
    "    Y_cor = []\n",
    "    for file in os.listdir(directName): \n",
    "        if file.endswith(\".xml\"):\n",
    "            fileNamePre = file[:-4]\n",
    "            filePath = os.path.join(directName, fileNamePre+'.png')\n",
    "#             print(fileNamePre)\n",
    "            img = cv2.imread(filePath, cv2.IMREAD_GRAYSCALE)\n",
    "            coords = script_dict[fileNamePre]\n",
    "            for cor in coords:\n",
    "                if(cor[4]!=1 and cor[4]!=2 and cor[4]!=3 and cor[4]!=6):\n",
    "                    continue\n",
    "                img_part = img[cor[2]:cor[3],cor[0]:cor[1]]\n",
    "                img_part = cv2.resize(img_part, (resize_scale,resize_scale))\n",
    "                X_cor.append(img_part)\n",
    "                Y_cor.append(cor[4])\n",
    "                X_cor.append(np.rot90(img_part,1))  ## rotate 90 degree\n",
    "                Y_cor.append(cor[4])\n",
    "                X_cor.append(np.rot90(img_part,2))  ## rotate 180 degree\n",
    "                Y_cor.append(cor[4])\n",
    "#                 if(cor[4]!=1 and cor[4]!=2 and cor[4]!=3 and cor[4]!=6):\n",
    "#                     X_cor.append(np.rot90(img_part,3))  ## rotate 270 degree\n",
    "#                     Y_cor.append(cor[4])\n",
    "#                     X_cor.append(np.flipud(img_part))  ## updown\n",
    "#                     Y_cor.append(cor[4])\n",
    "#                     X_cor.append(np.fliplr(img_part))  ## leftright\n",
    "#                     Y_cor.append(cor[4])\n",
    "    X_cor = np.array(X_cor)\n",
    "    Y_cor = np.array(Y_cor)\n",
    "    X, y = shuffle(X_cor, Y_cor, random_state=0)\n",
    "    X_train, X_test, y_train, y_test = train_test_split(X, y, test_size=test_ratio, random_state=42)\n",
    "    return X_train, X_test, y_train, y_test   "
   ]
  },
  {
   "cell_type": "code",
   "execution_count": 120,
   "id": "c83636a8",
   "metadata": {},
   "outputs": [],
   "source": [
    "X_train, X_test, y_train, y_test = split_rooms_coords_rot(directName, script_dict, 300, 0.1)"
   ]
  },
  {
   "cell_type": "code",
   "execution_count": 121,
   "id": "81bdb2d1",
   "metadata": {},
   "outputs": [
    {
     "name": "stdout",
     "output_type": "stream",
     "text": [
      "(2697, 300, 300) (300, 300, 300) (2697,) (300,)\n",
      "0.24273 0.027000000000000003 1.0788e-05 1.2000000000000002e-06\n"
     ]
    }
   ],
   "source": [
    "print(X_train.shape, X_test.shape, y_train.shape, y_test.shape)\n",
    "print(X_train.nbytes*1e-9, X_test.nbytes*1e-9, y_train.nbytes*1e-9, y_test.nbytes*1e-9)"
   ]
  },
  {
   "cell_type": "code",
   "execution_count": null,
   "id": "73a9829b",
   "metadata": {},
   "outputs": [],
   "source": []
  },
  {
   "cell_type": "code",
   "execution_count": null,
   "id": "75527c8e",
   "metadata": {},
   "outputs": [],
   "source": []
  },
  {
   "cell_type": "code",
   "execution_count": 122,
   "id": "082eb1d9",
   "metadata": {},
   "outputs": [],
   "source": [
    "batch_size = 200\n",
    "momentum = 0.9\n",
    "lr = 0.01\n",
    "epochs = 10\n",
    "log_interval = 4\n",
    "nclasses = len(room_dict)"
   ]
  },
  {
   "cell_type": "code",
   "execution_count": 123,
   "id": "f59e77f2",
   "metadata": {},
   "outputs": [],
   "source": [
    "class MyDataset(Dataset):\n",
    "\n",
    "    def __init__(self, X, y):\n",
    "\n",
    "        self.X = torch.from_numpy(np.expand_dims(X, axis=1).astype(np.float32))\n",
    "#         self.y = torch.from_numpy(y.astype(np.float32).reshape([-1,1]))\n",
    "        self.y = torch.from_numpy(y.reshape([-1,1]).squeeze(1)).long()\n",
    "    \n",
    "    def __len__(self):\n",
    "        return self.X.size(0)\n",
    "\n",
    "    def __getitem__(self, idx):\n",
    "        return self.X[idx], self.y[idx]\n",
    "\n",
    "\n",
    "train_dataset = MyDataset(X_train, y_train)\n",
    "test_dataset = MyDataset(X_test, y_test)\n",
    "# val_dataset = MyDataset(X_path=\"validation/X.pt\", y_path=\"validation/y.pt\")\n",
    "\n",
    "train_loader = torch.utils.data.DataLoader(\n",
    "    train_dataset, batch_size=batch_size, shuffle=True, num_workers=0)\n",
    "\n",
    "test_loader = torch.utils.data.DataLoader(\n",
    "    test_dataset, batch_size=batch_size, shuffle=True, num_workers=0)\n",
    "\n",
    "# val_loader = torch.utils.data.DataLoader(\n",
    "#     val_dataset, batch_size=batch_size, shuffle=True, num_workers=1)"
   ]
  },
  {
   "cell_type": "code",
   "execution_count": 124,
   "id": "1e62c943",
   "metadata": {},
   "outputs": [],
   "source": [
    "class Net(nn.Module):\n",
    "    def __init__(self):\n",
    "        super(Net, self).__init__()\n",
    "        self.conv1 = nn.Conv2d(1, 3, kernel_size=5)\n",
    "        self.conv2 = nn.Conv2d(3, 3, kernel_size=10)\n",
    "        self.conv2_drop = nn.Dropout2d()\n",
    "        self.fc1 = nn.Linear(300, 100)\n",
    "        self.fc2 = nn.Linear(100, nclasses)\n",
    "        self.batchNorm1 = nn.BatchNorm2d(3)\n",
    "\n",
    "    def forward(self, x):\n",
    "        x = F.relu(F.max_pool2d(self.conv1(x), 2))\n",
    "        x = self.batchNorm1(x)\n",
    "        x = F.relu(F.max_pool2d(self.conv2_drop(self.conv2(x)), 2))\n",
    "        x = self.batchNorm1(x)\n",
    "        x = F.relu(F.max_pool2d(self.conv2_drop(self.conv2(x)), 2))\n",
    "        x = self.batchNorm1(x)\n",
    "        x = F.relu(F.max_pool2d(self.conv2_drop(self.conv2(x)), 2))\n",
    "        x = self.batchNorm1(x)\n",
    "        x = x.view(-1, 300)\n",
    "        x = F.relu(self.fc1(x))\n",
    "        x = F.dropout(x, training=self.training)\n",
    "        x = self.fc2(x)\n",
    "        return F.log_softmax(x,dim=1)"
   ]
  },
  {
   "cell_type": "code",
   "execution_count": 125,
   "id": "3bd94279",
   "metadata": {},
   "outputs": [],
   "source": [
    "model = Net()\n",
    "# criterion = nn.CrossEntropyLoss(weight = weights)\n",
    "criterion = nn.CrossEntropyLoss()\n",
    "optimizer = optim.SGD(model.parameters(), lr=lr, momentum=momentum)"
   ]
  },
  {
   "cell_type": "code",
   "execution_count": 130,
   "id": "17c4ec31",
   "metadata": {},
   "outputs": [],
   "source": [
    "def train(epoch):\n",
    "    model.train()\n",
    "    for batch_idx, (data, target) in enumerate(train_loader):\n",
    "        optimizer.zero_grad()\n",
    "        output = model(data)\n",
    "#         loss = F.nll_loss(output, target)\n",
    "        loss = criterion(output, target)\n",
    "        loss.backward()\n",
    "        optimizer.step()\n",
    "        if batch_idx % log_interval == 0:\n",
    "            print('Train Epoch: {} [{}/{} ({:.0f}%)]\\tLoss: {:.6f}'.format(\n",
    "                epoch, batch_idx * len(data), len(train_loader.dataset),\n",
    "                100. * batch_idx / len(train_loader), loss.item()))\n",
    "            \n",
    "#     model.eval()\n",
    "#     true_num = 0\n",
    "#     total_num = 0\n",
    "#     with torch.no_grad():\n",
    "#         for batch_idx, (data, target) in enumerate(test_loader):\n",
    "#             output = model(data)\n",
    "#             output_labels = np.argmax(output, axis=1)\n",
    "#             true_num += (output_labels==target).sum()\n",
    "#             total_num += output_labels.shape[0]\n",
    "#     print('test accuracy:',true_num/total_num)\n",
    "#     model.train()"
   ]
  },
  {
   "cell_type": "code",
   "execution_count": 128,
   "id": "95b681a2",
   "metadata": {},
   "outputs": [],
   "source": [
    "def test():\n",
    "    model.eval()\n",
    "    test_loss = 0\n",
    "    correct = 0\n",
    "    for data, target in test_loader:\n",
    "        #data, target = Variable(data, volatile=True), Variable(target)\n",
    "        output = model(data)\n",
    "        test_loss += F.cross_entropy(output, target, reduction='sum').item() # sum up batch loss\n",
    "        #test_loss += F.cross_entropy(output, target, sum=True).item() # sum up batch loss\n",
    "        pred = output.data.max(1, keepdim=True)[1] # get the index of the max log-probability\n",
    "        correct += pred.eq(target.data.view_as(pred)).cpu().sum()\n",
    "\n",
    "    test_loss /= len(test_loader.dataset)\n",
    "    print('\\nTest set: Average loss: {:.4f}, Accuracy: {}/{} ({:.0f}%)\\n'.format(\n",
    "        test_loss, correct, len(test_loader.dataset),\n",
    "        100. * correct / len(test_loader.dataset)))"
   ]
  },
  {
   "cell_type": "code",
   "execution_count": null,
   "id": "709a74f8",
   "metadata": {},
   "outputs": [],
   "source": [
    "for epoch in range(epochs):\n",
    "    train(epoch)\n",
    "    test()"
   ]
  }
 ],
 "metadata": {
  "kernelspec": {
   "display_name": "Python 3 (ipykernel)",
   "language": "python",
   "name": "python3"
  },
  "language_info": {
   "codemirror_mode": {
    "name": "ipython",
    "version": 3
   },
   "file_extension": ".py",
   "mimetype": "text/x-python",
   "name": "python",
   "nbconvert_exporter": "python",
   "pygments_lexer": "ipython3",
   "version": "3.8.12"
  }
 },
 "nbformat": 4,
 "nbformat_minor": 5
}
