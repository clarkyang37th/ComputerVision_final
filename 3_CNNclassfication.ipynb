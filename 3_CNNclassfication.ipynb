{
 "cells": [
  {
   "cell_type": "code",
   "execution_count": 1,
   "id": "fb431b3a",
   "metadata": {},
   "outputs": [],
   "source": [
    "import cv2\n",
    "import matplotlib.pyplot as plt\n",
    "import numpy as np\n",
    "import os\n",
    "import xml.etree.ElementTree as ET\n",
    "import copy\n",
    "from sklearn.utils import shuffle\n",
    "from sklearn.model_selection import train_test_split"
   ]
  },
  {
   "cell_type": "code",
   "execution_count": 2,
   "id": "700fea93",
   "metadata": {},
   "outputs": [],
   "source": [
    "# import argparse\n",
    "import torch\n",
    "import torch.nn as nn\n",
    "import torch.nn.functional as F\n",
    "import torch.optim as optim\n",
    "from torchvision import datasets, transforms\n",
    "from torch.autograd import Variable\n",
    "# import torchvision\n",
    "from torch.utils.data import Dataset\n"
   ]
  },
  {
   "cell_type": "code",
   "execution_count": 3,
   "id": "b3a1033a",
   "metadata": {},
   "outputs": [],
   "source": [
    "room_dict = {'bathroom': 0, 'bedroom': 1, 'dining room': 2, 'kitchen': 3, 'stairs': 4}"
   ]
  },
  {
   "cell_type": "code",
   "execution_count": 13,
   "id": "cf1713fa",
   "metadata": {},
   "outputs": [],
   "source": [
    "### process every xml files to be 'filename':[[xmin_room1,xmax_room1,ymin_room1,ymax_room1,label_room1],\n",
    "### [xmin_room2,xmax_room2,ymin_room2,ymax_room2,label_room2],...]\n",
    "\n",
    "directName = \"./data_2\"\n",
    "script_dict = {}   ### record of each figure and each room of it\n",
    "room_count = {0:0, 1:0, 2:0, 3:0, 4:0}\n",
    "xy_dist = []\n",
    "for file in os.listdir(directName):\n",
    "    if file.endswith(\".xml\"):\n",
    "        fileNamePre = file[:-4]\n",
    "        tree = ET.parse(os.path.join(directName, file))\n",
    "        root = tree.getroot()\n",
    "        script_dict[fileNamePre] = []\n",
    "        for item in root.findall('object'):\n",
    "            rooms = [None]*5\n",
    "            for child in item:\n",
    "                if(child.tag == 'name'):\n",
    "                    room_type = child.text\n",
    "                    room_type_digit = -1\n",
    "                    if(not (room_type in room_dict)):\n",
    "                        continue\n",
    "\n",
    "                    room_count[room_dict[room_type]] += 1\n",
    "                    rooms[4] = room_dict[room_type]\n",
    "                elif(child.tag == 'bndbox'):\n",
    "                    for grandchild in child:\n",
    "                        if grandchild.tag=='xmin':\n",
    "                            rooms[0] = int(grandchild.text)\n",
    "                        elif grandchild.tag=='xmax':\n",
    "                            rooms[1] = int(grandchild.text)\n",
    "                        elif grandchild.tag=='ymin':\n",
    "                            rooms[2] = int(grandchild.text)\n",
    "                        elif grandchild.tag=='ymax':\n",
    "                            rooms[3] = int(grandchild.text)\n",
    "            \n",
    "            if(rooms[4] in range(6)):\n",
    "                xy_dist.append(rooms[1]-rooms[0])\n",
    "                xy_dist.append(rooms[3]-rooms[2])\n",
    "                script_dict[fileNamePre].append(rooms)"
   ]
  },
  {
   "cell_type": "code",
   "execution_count": 5,
   "id": "6fb54172",
   "metadata": {},
   "outputs": [
    {
     "data": {
      "text/plain": [
       "{'bathroom': 0, 'bedroom': 1, 'dining room': 2, 'kitchen': 3, 'stairs': 4}"
      ]
     },
     "execution_count": 5,
     "metadata": {},
     "output_type": "execute_result"
    }
   ],
   "source": [
    "room_dict"
   ]
  },
  {
   "cell_type": "code",
   "execution_count": 15,
   "id": "054c08e2",
   "metadata": {},
   "outputs": [],
   "source": [
    "def split_rooms_coords_rot(directName, script_dict, resize_scale, test_ratio):\n",
    "    X_cor = []\n",
    "    Y_cor = []\n",
    "    count = [0]*6\n",
    "    for file in os.listdir(directName): \n",
    "        if file.endswith(\".xml\"):\n",
    "            fileNamePre = file[:-4]\n",
    "            filePath = os.path.join(directName, fileNamePre+'.png')\n",
    "            img = cv2.imread(filePath, cv2.IMREAD_GRAYSCALE)\n",
    "            coords = script_dict[fileNamePre]\n",
    "            for cor in coords:\n",
    "                if(cor[4]==9 or count[cor[4]]>=100):\n",
    "                    continue\n",
    "                count[cor[4]] += 1\n",
    "                img_part = img[cor[2]:cor[3],cor[0]:cor[1]]\n",
    "                img_part = cv2.resize(img_part, (resize_scale,resize_scale))\n",
    "                X_cor.append(img_part)\n",
    "                Y_cor.append(cor[4])\n",
    "                X_cor.append(np.rot90(img_part,1))  ## rotate 90 degree\n",
    "                Y_cor.append(cor[4])\n",
    "                X_cor.append(np.rot90(img_part,2))  ## rotate 180 degree\n",
    "                Y_cor.append(cor[4])\n",
    "                X_cor.append(np.rot90(img_part,3))  ## rotate 180 degree\n",
    "                Y_cor.append(cor[4])\n",
    " \n",
    "    X_cor = np.array(X_cor)\n",
    "    Y_cor = np.array(Y_cor)\n",
    "    X, y = shuffle(X_cor, Y_cor, random_state=0)\n",
    "    X_train, X_test, y_train, y_test = train_test_split(X, y, test_size=test_ratio, random_state=42)\n",
    "    return X_train, X_test, y_train, y_test   "
   ]
  },
  {
   "cell_type": "code",
   "execution_count": 16,
   "id": "854458eb",
   "metadata": {},
   "outputs": [],
   "source": [
    "X_train, X_test, y_train, y_test = split_rooms_coords_rot(directName, script_dict, 50, 0.1)"
   ]
  },
  {
   "cell_type": "code",
   "execution_count": 17,
   "id": "92b79846",
   "metadata": {},
   "outputs": [
    {
     "name": "stdout",
     "output_type": "stream",
     "text": [
      "(1720, 50, 50) (192, 50, 50) (1720,) (192,)\n",
      "0.0043 0.00048 6.88e-06 7.680000000000001e-07\n"
     ]
    }
   ],
   "source": [
    "print(X_train.shape, X_test.shape, y_train.shape, y_test.shape)\n",
    "print(X_train.nbytes*1e-9, X_test.nbytes*1e-9, y_train.nbytes*1e-9, y_test.nbytes*1e-9)\n"
   ]
  },
  {
   "cell_type": "code",
   "execution_count": null,
   "id": "9acd8a4e",
   "metadata": {},
   "outputs": [],
   "source": []
  },
  {
   "cell_type": "code",
   "execution_count": 18,
   "id": "51175a51",
   "metadata": {},
   "outputs": [],
   "source": [
    "batch_size = 120\n",
    "momentum = 0.9\n",
    "lr = 0.01\n",
    "epochs = 10\n",
    "log_interval = 6\n",
    "nclasses = len(room_dict)"
   ]
  },
  {
   "cell_type": "code",
   "execution_count": 19,
   "id": "7c45bc92",
   "metadata": {},
   "outputs": [],
   "source": [
    "class MyDataset(Dataset):\n",
    "\n",
    "    def __init__(self, X, y):\n",
    "\n",
    "        self.X = torch.from_numpy(np.expand_dims(X, axis=1).astype(np.float32))\n",
    "#         self.y = torch.from_numpy(y.astype(np.float32).reshape([-1,1]))\n",
    "        self.y = torch.from_numpy(y.reshape([-1,1]).squeeze(1)).long()\n",
    "    \n",
    "    def __len__(self):\n",
    "        return self.X.size(0)\n",
    "\n",
    "    def __getitem__(self, idx):\n",
    "        return self.X[idx], self.y[idx]\n",
    "\n",
    "\n",
    "train_dataset = MyDataset(X_train, y_train)\n",
    "test_dataset = MyDataset(X_test, y_test)\n",
    "\n",
    "train_loader = torch.utils.data.DataLoader(\n",
    "    train_dataset, batch_size=batch_size, shuffle=True, num_workers=0)\n",
    "\n",
    "test_loader = torch.utils.data.DataLoader(\n",
    "    test_dataset, batch_size=batch_size, shuffle=True, num_workers=0)\n"
   ]
  },
  {
   "cell_type": "code",
   "execution_count": 21,
   "id": "99504026",
   "metadata": {},
   "outputs": [],
   "source": [
    "## test 50% accuracy\n",
    "class Net(nn.Module):\n",
    "    def __init__(self):\n",
    "        super(Net, self).__init__()\n",
    "        self.conv1 = nn.Conv2d(1, 10, kernel_size=5)\n",
    "        self.conv2 = nn.Conv2d(10, 30, kernel_size=5)\n",
    "        self.conv3 = nn.Conv2d(30, 20, kernel_size=5)\n",
    "        self.conv2_drop = nn.Dropout2d()\n",
    "        self.fc1 = nn.Linear(80, nclasses)\n",
    "        self.batchNorm1 = nn.BatchNorm2d(10)\n",
    "        self.batchNorm2 = nn.BatchNorm2d(30)\n",
    "        self.batchNorm3 = nn.BatchNorm2d(20)\n",
    "\n",
    "    def forward(self, x):\n",
    "        x = F.relu(F.max_pool2d(self.conv1(x), 2))\n",
    "        x = self.batchNorm1(x)\n",
    "        x = F.relu(F.max_pool2d(self.conv2_drop(self.conv2(x)), 2))\n",
    "        x = self.batchNorm2(x)\n",
    "        x = F.relu(F.max_pool2d(self.conv2_drop(self.conv3(x)), 2))\n",
    "        x = self.batchNorm3(x)\n",
    "        x = x.view(-1, 80)\n",
    "        x = F.relu(self.fc1(x))\n",
    "        return F.log_softmax(x,dim=1)"
   ]
  },
  {
   "cell_type": "code",
   "execution_count": 22,
   "id": "4b2c61a2",
   "metadata": {},
   "outputs": [],
   "source": [
    "model = Net()\n",
    "criterion = nn.CrossEntropyLoss()\n",
    "optimizer = optim.SGD(model.parameters(), lr=lr, momentum=momentum)"
   ]
  },
  {
   "cell_type": "code",
   "execution_count": 23,
   "id": "9c07e5d8",
   "metadata": {},
   "outputs": [],
   "source": [
    "def train(epoch):\n",
    "    model.train()\n",
    "    for batch_idx, (data, target) in enumerate(train_loader):\n",
    "        optimizer.zero_grad()\n",
    "        output = model(data)\n",
    "#         loss = F.nll_loss(output, target)\n",
    "        loss = criterion(output, target)\n",
    "        loss.backward()\n",
    "        optimizer.step()\n",
    "        if batch_idx % log_interval == 0:\n",
    "            print('Train Epoch: {} [{}/{} ({:.0f}%)]\\tLoss: {:.6f}'.format(\n",
    "                epoch, batch_idx * len(data), len(train_loader.dataset),\n",
    "                100. * batch_idx / len(train_loader), loss.item()))"
   ]
  },
  {
   "cell_type": "code",
   "execution_count": 24,
   "id": "e2327b7c",
   "metadata": {},
   "outputs": [],
   "source": [
    "def test():\n",
    "    model.eval()\n",
    "    \n",
    "    test_loss = 0\n",
    "    correct = 0\n",
    "    for data, target in train_loader:\n",
    "        #data, target = Variable(data, volatile=True), Variable(target)\n",
    "        output = model(data)\n",
    "        test_loss += F.cross_entropy(output, target, reduction='sum').item() # sum up batch loss\n",
    "        #test_loss += F.cross_entropy(output, target, sum=True).item() # sum up batch loss\n",
    "        pred = output.data.max(1, keepdim=True)[1] # get the index of the max log-probability\n",
    "        correct += pred.eq(target.data.view_as(pred)).cpu().sum()\n",
    "\n",
    "    test_loss /= len(train_loader.dataset)\n",
    "    print('\\nTrain set: Average loss: {:.4f}, Accuracy: {}/{} ({:.0f}%)\\n'.format(\n",
    "        test_loss, correct, len(train_loader.dataset),\n",
    "        100. * correct / len(train_loader.dataset)))\n",
    "    train_loss = test_loss\n",
    "    train_correct = correct\n",
    "    \n",
    "    \n",
    "    test_loss = 0\n",
    "    correct = 0\n",
    "    for data, target in test_loader:\n",
    "        #data, target = Variable(data, volatile=True), Variable(target)\n",
    "        output = model(data)\n",
    "        test_loss += F.cross_entropy(output, target, reduction='sum').item() # sum up batch loss\n",
    "        #test_loss += F.cross_entropy(output, target, sum=True).item() # sum up batch loss\n",
    "        pred = output.data.max(1, keepdim=True)[1] # get the index of the max log-probability\n",
    "        correct += pred.eq(target.data.view_as(pred)).cpu().sum()\n",
    "\n",
    "    test_loss /= len(test_loader.dataset)\n",
    "    print('\\nTest set: Average loss: {:.4f}, Accuracy: {}/{} ({:.0f}%)\\n'.format(\n",
    "        test_loss, correct, len(test_loader.dataset),\n",
    "        100. * correct / len(test_loader.dataset)))\n",
    "    \n",
    "    return train_loss, test_loss, train_correct / len(train_loader.dataset), correct / len(test_loader.dataset)"
   ]
  },
  {
   "cell_type": "code",
   "execution_count": null,
   "id": "3aae3b86",
   "metadata": {},
   "outputs": [],
   "source": [
    "train_loss_hist = []\n",
    "test_loss_hist = []\n",
    "train_correct_hist = []\n",
    "test_correct_hist = []\n",
    "for epoch in range(40):\n",
    "    train(epoch)\n",
    "    train_loss, test_loss, train_correct, test_correct = test()\n",
    "    train_loss_hist.append(train_loss)\n",
    "    test_loss_hist.append(test_loss)\n",
    "    train_correct_hist.append(train_correct)\n",
    "    test_correct_hist.append(test_correct)"
   ]
  },
  {
   "cell_type": "code",
   "execution_count": 26,
   "id": "be246117",
   "metadata": {},
   "outputs": [
    {
     "data": {
      "text/plain": [
       "<matplotlib.legend.Legend at 0x2b5e4207640>"
      ]
     },
     "execution_count": 26,
     "metadata": {},
     "output_type": "execute_result"
    },
    {
     "data": {
      "image/png": "[encoded data removed]",
      "text/plain": [
       "<Figure size 720x288 with 2 Axes>"
      ]
     },
     "metadata": {
      "needs_background": "light"
     },
     "output_type": "display_data"
    }
   ],
   "source": [
    "plt.figure(figsize=(10,4))\n",
    "\n",
    "plt.subplot(1,2,1)\n",
    "plt.plot(train_loss_hist)\n",
    "plt.plot(test_loss_hist)\n",
    "plt.xlabel('iterations')\n",
    "plt.ylabel('loss')\n",
    "plt.legend(['train','test'])\n",
    "\n",
    "\n",
    "plt.subplot(1,2,2)\n",
    "plt.plot(train_correct_hist)\n",
    "plt.plot(test_correct_hist)\n",
    "plt.xlabel('iterations')\n",
    "plt.ylabel('correct rate')\n",
    "plt.legend(['train','test'])"
   ]
  },
  {
   "cell_type": "code",
   "execution_count": null,
   "id": "900723b5",
   "metadata": {},
   "outputs": [],
   "source": []
  }
 ],
 "metadata": {
  "kernelspec": {
   "display_name": "Python 3 (ipykernel)",
   "language": "python",
   "name": "python3"
  },
  "language_info": {
   "codemirror_mode": {
    "name": "ipython",
    "version": 3
   },
   "file_extension": ".py",
   "mimetype": "text/x-python",
   "name": "python",
   "nbconvert_exporter": "python",
   "pygments_lexer": "ipython3",
   "version": "3.8.12"
  }
 },
 "nbformat": 4,
 "nbformat_minor": 5
}
